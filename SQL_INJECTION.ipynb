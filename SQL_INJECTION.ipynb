{
  "nbformat": 4,
  "nbformat_minor": 0,
  "metadata": {
    "colab": {
      "name": "SQL_INJECTION.ipynb",
      "provenance": [],
      "collapsed_sections": []
    },
    "kernelspec": {
      "name": "python3",
      "display_name": "Python 3"
    },
    "language_info": {
      "name": "python"
    }
  },
  "cells": [
    {
      "cell_type": "code",
      "execution_count": 1,
      "metadata": {
        "id": "MSVBNJJmcr4J"
      },
      "outputs": [],
      "source": [
        "import pandas as pd\n",
        "import numpy as np\n",
        "import sqlite3"
      ]
    },
    {
      "cell_type": "code",
      "source": [
        "conn = sqlite3.connect(\"test.db\")"
      ],
      "metadata": {
        "id": "gOBHHrK6c03g"
      },
      "execution_count": 2,
      "outputs": []
    },
    {
      "cell_type": "code",
      "source": [
        "curr = conn.cursor()"
      ],
      "metadata": {
        "id": "fpdO_hWec2c0"
      },
      "execution_count": 3,
      "outputs": []
    },
    {
      "cell_type": "code",
      "source": [
        "curr.execute('''\n",
        "                create table employee(name varchar(20) primary key, age int, salary int, email varchar(50));''')"
      ],
      "metadata": {
        "colab": {
          "base_uri": "https://localhost:8080/"
        },
        "id": "QvGYsTyDdAXv",
        "outputId": "1ead4346-1737-4577-d25b-11df2b13546b"
      },
      "execution_count": 4,
      "outputs": [
        {
          "output_type": "execute_result",
          "data": {
            "text/plain": [
              "<sqlite3.Cursor at 0x7fab97f36e30>"
            ]
          },
          "metadata": {},
          "execution_count": 4
        }
      ]
    },
    {
      "cell_type": "code",
      "source": [
        "curr.execute('''\n",
        "                insert into employee VALUES('Richa',20,23000,'richa12pp@gmail.com');''')"
      ],
      "metadata": {
        "colab": {
          "base_uri": "https://localhost:8080/"
        },
        "id": "bnBsCnrGdDxS",
        "outputId": "b038ff94-e64e-4bf1-99c1-a08b77e826df"
      },
      "execution_count": 5,
      "outputs": [
        {
          "output_type": "execute_result",
          "data": {
            "text/plain": [
              "<sqlite3.Cursor at 0x7fab97f36e30>"
            ]
          },
          "metadata": {},
          "execution_count": 5
        }
      ]
    },
    {
      "cell_type": "code",
      "source": [
        "curr.execute('''\n",
        "                select * from employee;''')"
      ],
      "metadata": {
        "colab": {
          "base_uri": "https://localhost:8080/"
        },
        "id": "_Ii1MVxxdMGA",
        "outputId": "f04d99eb-ce55-469c-827b-b0b6d008d120"
      },
      "execution_count": 6,
      "outputs": [
        {
          "output_type": "execute_result",
          "data": {
            "text/plain": [
              "<sqlite3.Cursor at 0x7fab97f36e30>"
            ]
          },
          "metadata": {},
          "execution_count": 6
        }
      ]
    },
    {
      "cell_type": "code",
      "source": [
        "curr.fetchall()"
      ],
      "metadata": {
        "colab": {
          "base_uri": "https://localhost:8080/"
        },
        "id": "4Vj5yuLtdOwm",
        "outputId": "aab348b2-3198-4cc6-add9-961591822e22"
      },
      "execution_count": 7,
      "outputs": [
        {
          "output_type": "execute_result",
          "data": {
            "text/plain": [
              "[('Richa', 20, 23000, 'richa12pp@gmail.com')]"
            ]
          },
          "metadata": {},
          "execution_count": 7
        }
      ]
    },
    {
      "cell_type": "code",
      "source": [
        "curr.execute('''\n",
        "                insert into employee values('Rohann',21, 20000,'rohann@gmail.com'),('Rahul',21,42000,'rahul@gmail.com');''')"
      ],
      "metadata": {
        "colab": {
          "base_uri": "https://localhost:8080/"
        },
        "id": "DTd3TOBAdR2M",
        "outputId": "0779238a-01bb-4266-95da-56276f7cb445"
      },
      "execution_count": 8,
      "outputs": [
        {
          "output_type": "execute_result",
          "data": {
            "text/plain": [
              "<sqlite3.Cursor at 0x7fab97f36e30>"
            ]
          },
          "metadata": {},
          "execution_count": 8
        }
      ]
    },
    {
      "cell_type": "code",
      "source": [
        "curr.execute(\"PRAGMA table_info(employee);\").fetchall()"
      ],
      "metadata": {
        "colab": {
          "base_uri": "https://localhost:8080/"
        },
        "id": "YrXb5KDydZqr",
        "outputId": "cb166c98-496e-45de-91dd-6cdd0dc4f936"
      },
      "execution_count": 9,
      "outputs": [
        {
          "output_type": "execute_result",
          "data": {
            "text/plain": [
              "[(0, 'name', 'varchar(20)', 0, None, 1),\n",
              " (1, 'age', 'int', 0, None, 0),\n",
              " (2, 'salary', 'int', 0, None, 0),\n",
              " (3, 'email', 'varchar(50)', 0, None, 0)]"
            ]
          },
          "metadata": {},
          "execution_count": 9
        }
      ]
    },
    {
      "cell_type": "code",
      "source": [
        "curr.execute('''\n",
        "                insert into employee values(?,?,?,?)''',('lakshma',23,30000,'lakshma@gmail.com'))"
      ],
      "metadata": {
        "colab": {
          "base_uri": "https://localhost:8080/"
        },
        "id": "68cNeVfDdego",
        "outputId": "398bf655-d3a5-4ca1-8cab-1df84b2b09fd"
      },
      "execution_count": 10,
      "outputs": [
        {
          "output_type": "execute_result",
          "data": {
            "text/plain": [
              "<sqlite3.Cursor at 0x7fab97f36e30>"
            ]
          },
          "metadata": {},
          "execution_count": 10
        }
      ]
    },
    {
      "cell_type": "code",
      "source": [
        "curr.execute('''\n",
        "                select * from employee''')\n",
        "curr.fetchall()"
      ],
      "metadata": {
        "colab": {
          "base_uri": "https://localhost:8080/"
        },
        "id": "Y3sozCLBdhbU",
        "outputId": "ffc71344-8653-459f-9718-b68fb3123292"
      },
      "execution_count": 24,
      "outputs": [
        {
          "output_type": "execute_result",
          "data": {
            "text/plain": [
              "[('Richa', 20, 23000, 'richa12pp@gmail.com'),\n",
              " ('Rohann', 21, 20000, 'rohann@gmail.com'),\n",
              " ('Rahul', 21, 42000, 'rahul@gmail.com'),\n",
              " ('lakshma', 23, 30000, 'lakshma@gmail.com')]"
            ]
          },
          "metadata": {},
          "execution_count": 24
        }
      ]
    },
    {
      "cell_type": "code",
      "source": [
        "name = input('enter your name')\n",
        "age = int(input('enter your age'))\n",
        "salary = int(input('enter your salary'))\n",
        "email = input('enter your email')"
      ],
      "metadata": {
        "colab": {
          "base_uri": "https://localhost:8080/"
        },
        "id": "jZk1fCDWdkks",
        "outputId": "47227907-7ff2-4710-8735-35a622a63936"
      },
      "execution_count": 25,
      "outputs": [
        {
          "name": "stdout",
          "output_type": "stream",
          "text": [
            "enter your nameaman\n",
            "enter your age20\n",
            "enter your salary45000\n",
            "enter your emailaman@gmail.com\n"
          ]
        }
      ]
    },
    {
      "cell_type": "code",
      "source": [
        "curr.execute('''\n",
        "                insert into employee values(?,?,?,?)''',(name,age,salary,email))"
      ],
      "metadata": {
        "colab": {
          "base_uri": "https://localhost:8080/"
        },
        "id": "2AoaScSDfZNe",
        "outputId": "39546a14-d759-4f0e-de8e-981442ccccd2"
      },
      "execution_count": 26,
      "outputs": [
        {
          "output_type": "execute_result",
          "data": {
            "text/plain": [
              "<sqlite3.Cursor at 0x7fab97f36e30>"
            ]
          },
          "metadata": {},
          "execution_count": 26
        }
      ]
    },
    {
      "cell_type": "code",
      "source": [
        "curr.execute('''\n",
        "                select * from employee''')\n",
        "curr.fetchall()"
      ],
      "metadata": {
        "colab": {
          "base_uri": "https://localhost:8080/"
        },
        "id": "2vbs9PBflzcE",
        "outputId": "dcb98631-f329-4ab5-d79f-cdf48e96c21b"
      },
      "execution_count": 27,
      "outputs": [
        {
          "output_type": "execute_result",
          "data": {
            "text/plain": [
              "[('Richa', 20, 23000, 'richa12pp@gmail.com'),\n",
              " ('Rohann', 21, 20000, 'rohann@gmail.com'),\n",
              " ('Rahul', 21, 42000, 'rahul@gmail.com'),\n",
              " ('lakshma', 23, 30000, 'lakshma@gmail.com'),\n",
              " ('aman', 20, 45000, 'aman@gmail.com')]"
            ]
          },
          "metadata": {},
          "execution_count": 27
        }
      ]
    },
    {
      "cell_type": "code",
      "source": [
        "conn.commit()"
      ],
      "metadata": {
        "id": "p8Lm9-0ql38c"
      },
      "execution_count": 28,
      "outputs": []
    },
    {
      "cell_type": "code",
      "source": [
        "conn.close()"
      ],
      "metadata": {
        "id": "kKrNKS5Tl5Ri"
      },
      "execution_count": 29,
      "outputs": []
    }
  ]
}